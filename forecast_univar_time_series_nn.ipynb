{
  "nbformat": 4,
  "nbformat_minor": 0,
  "metadata": {
    "colab": {
      "name": "forecast_univar_time_series_nn.ipynb",
      "version": "0.3.2",
      "provenance": [],
      "collapsed_sections": [],
      "include_colab_link": true
    },
    "kernelspec": {
      "name": "python3",
      "display_name": "Python 3"
    }
  },
  "cells": [
    {
      "cell_type": "markdown",
      "metadata": {
        "id": "view-in-github",
        "colab_type": "text"
      },
      "source": [
        "<a href=\"https://colab.research.google.com/github/neil-vqa/Stock-price-trend-forecast/blob/master/forecast_univar_time_series_nn.ipynb\" target=\"_parent\"><img src=\"https://colab.research.google.com/assets/colab-badge.svg\" alt=\"Open In Colab\"/></a>"
      ]
    },
    {
      "cell_type": "code",
      "metadata": {
        "id": "CdvqEogz0c45",
        "colab_type": "code",
        "outputId": "23627b58-68f7-47ec-eb93-cdb5edcb2439",
        "colab": {
          "base_uri": "https://localhost:8080/",
          "height": 36
        }
      },
      "source": [
        "import tensorflow as tf\n",
        "from sklearn.preprocessing import MinMaxScaler\n",
        "import keras\n",
        "import pandas as pd\n",
        "import pandas_datareader as dr\n",
        "import numpy as np\n",
        "import matplotlib.pyplot as plt"
      ],
      "execution_count": 1,
      "outputs": [
        {
          "output_type": "stream",
          "text": [
            "Using TensorFlow backend.\n"
          ],
          "name": "stderr"
        }
      ]
    },
    {
      "cell_type": "code",
      "metadata": {
        "id": "S65SJ1E42EQR",
        "colab_type": "code",
        "colab": {}
      },
      "source": [
        "stocks = ['AMZN']\n",
        "\n",
        "df = dr.data.get_data_yahoo(stocks,start='2008-01', end='2019-01')"
      ],
      "execution_count": 0,
      "outputs": []
    },
    {
      "cell_type": "code",
      "metadata": {
        "id": "IYC6v0oM3SJy",
        "colab_type": "code",
        "colab": {}
      },
      "source": [
        "rs_data = df['Close'].resample('W').mean()\n",
        "#rs_data.plot(figsize=(15,10));"
      ],
      "execution_count": 0,
      "outputs": []
    },
    {
      "cell_type": "code",
      "metadata": {
        "id": "qj6_3eHG3SbQ",
        "colab_type": "code",
        "colab": {}
      },
      "source": [
        "scaler = MinMaxScaler(feature_range=(0, 1))\n",
        "sc_data = scaler.fit_transform(rs_data)"
      ],
      "execution_count": 0,
      "outputs": []
    },
    {
      "cell_type": "code",
      "metadata": {
        "id": "b6gDs2Gm3Sl-",
        "colab_type": "code",
        "colab": {}
      },
      "source": [
        "def init_data(sc_data):\n",
        "  train_size = int(len(sc_data) * 0.80)\n",
        "  test_size = len(sc_data) - train_size\n",
        "  train_data, test_data = sc_data[0:train_size,:], sc_data[train_size:len(rs_data),:]\n",
        "  \n",
        "  return train_data, test_data, train_size"
      ],
      "execution_count": 0,
      "outputs": []
    },
    {
      "cell_type": "code",
      "metadata": {
        "id": "s7P-YFeS3SyD",
        "colab_type": "code",
        "colab": {}
      },
      "source": [
        "def data_gen(train_data,test_data):\n",
        "\n",
        "  train_data_gen = keras.preprocessing.sequence.TimeseriesGenerator(train_data, train_data,\n",
        "                                 length=10, sampling_rate=1,stride=1,\n",
        "                                 batch_size=3)\n",
        "  test_data_gen = keras.preprocessing.sequence.TimeseriesGenerator(test_data, test_data,\n",
        "                               length=10, sampling_rate=1,stride=1,\n",
        "                               batch_size=1)\n",
        "  \n",
        "  return train_data_gen, test_data_gen"
      ],
      "execution_count": 0,
      "outputs": []
    },
    {
      "cell_type": "code",
      "metadata": {
        "id": "MLFEXjr32Eva",
        "colab_type": "code",
        "colab": {}
      },
      "source": [
        "def nn_model(train_data_gen):\n",
        "\n",
        "  model = keras.models.Sequential()\n",
        "  model.add(keras.layers.LSTM(20, return_sequences=True, input_shape=(10, 1)))\n",
        "  model.add(keras.layers.Dropout(rate=0.4))\n",
        "  model.add(keras.layers.LSTM(20))\n",
        "  model.add(keras.layers.Dropout(rate=0.2))\n",
        "  model.add(keras.layers.Dense(1))\n",
        "\n",
        "  model.compile(optimizer='adam', loss='mean_squared_error', metrics=['accuracy'])\n",
        "\n",
        "  model.fit_generator(train_data_gen, epochs=50)\n",
        "  \n",
        "  return model"
      ],
      "execution_count": 0,
      "outputs": []
    },
    {
      "cell_type": "code",
      "metadata": {
        "id": "rIlEg5BA9cMc",
        "colab_type": "code",
        "colab": {}
      },
      "source": [
        "def predict(model, test_data_gen, train_size):\n",
        "  \n",
        "  testPredict = model.predict_generator(test_data_gen)\n",
        "  testPredictor = scaler.inverse_transform(testPredict)\n",
        "  testOrig = scaler.inverse_transform(sc_data[train_size + 10:len(rs_data),:])\n",
        "  \n",
        "  preds = [y for y in testPredictor]\n",
        "  acts = [y for y in testOrig]\n",
        "  \n",
        "  return preds, acts, testPredict"
      ],
      "execution_count": 0,
      "outputs": []
    },
    {
      "cell_type": "code",
      "metadata": {
        "id": "kF5I4Zhcidt0",
        "colab_type": "code",
        "colab": {}
      },
      "source": [
        "def predictors(new_data, model):\n",
        "  \n",
        "  new_data_gen = keras.preprocessing.sequence.TimeseriesGenerator(new_data, new_data,\n",
        "                               length=10, sampling_rate=1,stride=1,\n",
        "                               batch_size=1)\n",
        "  \n",
        "  predictor = model.predict_generator(new_data_gen)\n",
        "  \n",
        "  return predictor"
      ],
      "execution_count": 0,
      "outputs": []
    },
    {
      "cell_type": "code",
      "metadata": {
        "id": "2-GNLK6jOSWj",
        "colab_type": "code",
        "colab": {}
      },
      "source": [
        "def forecaster(testPredict, model, n):\n",
        "  \n",
        "  hold_predict = testPredict\n",
        "  forecasted = []\n",
        "  i = 1\n",
        "  while i <= n:\n",
        "    new_data = hold_predict[-11:]\n",
        "    new_predicted = predictors(new_data, model)\n",
        "    hold_predict = np.vstack((hold_predict, new_predicted))\n",
        "    inverted_predictor = scaler.inverse_transform(new_predicted)\n",
        "    forecasted.append(inverted_predictor)\n",
        "    i += 1\n",
        "   \n",
        "  return forecasted\n",
        "    "
      ],
      "execution_count": 0,
      "outputs": []
    },
    {
      "cell_type": "code",
      "metadata": {
        "id": "2naFIwZFDfp5",
        "colab_type": "code",
        "colab": {}
      },
      "source": [
        "def plot_pred(predicted_line, acts):\n",
        "\n",
        "  plt.figure(figsize=(15,10))\n",
        "  plt.plot(predicted_line, color='red', label='Predicted')\n",
        "  plt.plot(acts, color='blue', label='Actual')\n",
        "  plt.title('Weekly Stock Price Trend Forecast')\n",
        "  plt.legend()\n",
        "  plt.show()"
      ],
      "execution_count": 0,
      "outputs": []
    },
    {
      "cell_type": "code",
      "metadata": {
        "id": "Qnat9bB-_6Jx",
        "colab_type": "code",
        "colab": {}
      },
      "source": [
        "initial_data = init_data(sc_data)"
      ],
      "execution_count": 0,
      "outputs": []
    },
    {
      "cell_type": "code",
      "metadata": {
        "id": "L_CbnTNABOVD",
        "colab_type": "code",
        "colab": {}
      },
      "source": [
        "data_generated = data_gen(initial_data[0],initial_data[1])"
      ],
      "execution_count": 0,
      "outputs": []
    },
    {
      "cell_type": "code",
      "metadata": {
        "id": "dOa3D2ISBOt_",
        "colab_type": "code",
        "colab": {}
      },
      "source": [
        "lstm_model = nn_model(data_generated[0])"
      ],
      "execution_count": 0,
      "outputs": []
    },
    {
      "cell_type": "code",
      "metadata": {
        "id": "IIMBhl7wBO8G",
        "colab_type": "code",
        "colab": {}
      },
      "source": [
        "predicting_init = predict(lstm_model, data_generated[1], initial_data[2])"
      ],
      "execution_count": 0,
      "outputs": []
    },
    {
      "cell_type": "code",
      "metadata": {
        "id": "gxBtzJNFhQM9",
        "colab_type": "code",
        "colab": {}
      },
      "source": [
        "new_forecast = forecaster(predicting_init[2],lstm_model, 10)"
      ],
      "execution_count": 0,
      "outputs": []
    },
    {
      "cell_type": "code",
      "metadata": {
        "id": "2nNPpLC8hQbQ",
        "colab_type": "code",
        "colab": {}
      },
      "source": [
        "predicted_line = predicting_init[0] + new_forecast"
      ],
      "execution_count": 0,
      "outputs": []
    },
    {
      "cell_type": "code",
      "metadata": {
        "id": "HFBUx0RbBPHb",
        "colab_type": "code",
        "outputId": "a1676266-6595-4a44-8ecf-402f32993a93",
        "colab": {
          "base_uri": "https://localhost:8080/",
          "height": 607
        }
      },
      "source": [
        "plotting = plot_pred(predicted_line, predicting_init[1])"
      ],
      "execution_count": 28,
      "outputs": [
        {
          "output_type": "display_data",
          "data": {
            "image/png": "[encoded data removed]",
            "text/plain": [
              "<Figure size 1080x720 with 1 Axes>"
            ]
          },
          "metadata": {
            "tags": []
          }
        }
      ]
    },
    {
      "cell_type": "code",
      "metadata": {
        "id": "MyBpdGUmBPgD",
        "colab_type": "code",
        "colab": {}
      },
      "source": [
        "print(len(predicted_line))\n",
        "print(len(predicting_init[1]))"
      ],
      "execution_count": 0,
      "outputs": []
    },
    {
      "cell_type": "code",
      "metadata": {
        "id": "Sm6sxiaC_Kuy",
        "colab_type": "code",
        "outputId": "de264ca4-61b3-4898-bb88-a2eddd75a082",
        "colab": {
          "base_uri": "https://localhost:8080/",
          "height": 206
        }
      },
      "source": [
        "new_forecast"
      ],
      "execution_count": 26,
      "outputs": [
        {
          "output_type": "execute_result",
          "data": {
            "text/plain": [
              "[array([[1344.0211]], dtype=float32),\n",
              " array([[1330.7614]], dtype=float32),\n",
              " array([[1308.6066]], dtype=float32),\n",
              " array([[1284.915]], dtype=float32),\n",
              " array([[1261.0961]], dtype=float32),\n",
              " array([[1237.781]], dtype=float32),\n",
              " array([[1215.1279]], dtype=float32),\n",
              " array([[1193.3162]], dtype=float32),\n",
              " array([[1172.4648]], dtype=float32),\n",
              " array([[1152.5719]], dtype=float32)]"
            ]
          },
          "metadata": {
            "tags": []
          },
          "execution_count": 26
        }
      ]
    },
    {
      "cell_type": "code",
      "metadata": {
        "id": "uHGWWDyF5n-q",
        "colab_type": "code",
        "colab": {}
      },
      "source": [
        ""
      ],
      "execution_count": 0,
      "outputs": []
    }
  ]
}